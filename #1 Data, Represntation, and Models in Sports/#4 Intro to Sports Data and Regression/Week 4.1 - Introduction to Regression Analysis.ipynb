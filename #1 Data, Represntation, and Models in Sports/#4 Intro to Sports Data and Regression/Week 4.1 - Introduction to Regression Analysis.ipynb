{
 "cells": [
  {
   "cell_type": "markdown",
   "metadata": {},
   "source": [
    "### Import useful libraries\n"
   ]
  },
  {
   "cell_type": "code",
   "execution_count": 23,
   "metadata": {},
   "outputs": [],
   "source": [
    "import pandas as pd\n",
    "import numpy as np\n",
    "import matplotlib.pyplot as plt"
   ]
  },
  {
   "cell_type": "markdown",
   "metadata": {},
   "source": [
    "### In this section, we will use the NHL_Team_Stats dataset we compiled and cleaned up in the assignment for Week 2. \n",
    "Import both NHL_Team_Stats and NHL_Team_R_Stats data from Week 2 assignment into Python."
   ]
  },
  {
   "cell_type": "code",
   "execution_count": 2,
   "metadata": {},
   "outputs": [
    {
     "data": {
      "text/html": [
       "<div>\n",
       "<style scoped>\n",
       "    .dataframe tbody tr th:only-of-type {\n",
       "        vertical-align: middle;\n",
       "    }\n",
       "\n",
       "    .dataframe tbody tr th {\n",
       "        vertical-align: top;\n",
       "    }\n",
       "\n",
       "    .dataframe thead th {\n",
       "        text-align: right;\n",
       "    }\n",
       "</style>\n",
       "<table border=\"1\" class=\"dataframe\">\n",
       "  <thead>\n",
       "    <tr style=\"text-align: right;\">\n",
       "      <th></th>\n",
       "      <th>tricode</th>\n",
       "      <th>pp</th>\n",
       "      <th>pk</th>\n",
       "      <th>ppgf</th>\n",
       "      <th>competition_name</th>\n",
       "      <th>tid</th>\n",
       "      <th>type</th>\n",
       "      <th>win</th>\n",
       "      <th>goals_for</th>\n",
       "      <th>goals_against</th>\n",
       "      <th>game_count</th>\n",
       "      <th>team_name</th>\n",
       "      <th>win_pct</th>\n",
       "      <th>avg_gf</th>\n",
       "      <th>avg_ga</th>\n",
       "    </tr>\n",
       "  </thead>\n",
       "  <tbody>\n",
       "    <tr>\n",
       "      <th>0</th>\n",
       "      <td>ANA</td>\n",
       "      <td>35</td>\n",
       "      <td>27</td>\n",
       "      <td>9.0</td>\n",
       "      <td>2010 NHL Playoff</td>\n",
       "      <td>21</td>\n",
       "      <td>3</td>\n",
       "      <td>2</td>\n",
       "      <td>19.0</td>\n",
       "      <td>22.0</td>\n",
       "      <td>6</td>\n",
       "      <td>Anaheim Ducks</td>\n",
       "      <td>0.333333</td>\n",
       "      <td>3.166667</td>\n",
       "      <td>3.666667</td>\n",
       "    </tr>\n",
       "    <tr>\n",
       "      <th>1</th>\n",
       "      <td>BOS</td>\n",
       "      <td>126</td>\n",
       "      <td>116</td>\n",
       "      <td>22.0</td>\n",
       "      <td>2010 NHL Playoff</td>\n",
       "      <td>20</td>\n",
       "      <td>3</td>\n",
       "      <td>16</td>\n",
       "      <td>76.0</td>\n",
       "      <td>48.0</td>\n",
       "      <td>24</td>\n",
       "      <td>Boston Bruins</td>\n",
       "      <td>0.666667</td>\n",
       "      <td>3.166667</td>\n",
       "      <td>2.000000</td>\n",
       "    </tr>\n",
       "    <tr>\n",
       "      <th>2</th>\n",
       "      <td>BUF</td>\n",
       "      <td>48</td>\n",
       "      <td>46</td>\n",
       "      <td>13.0</td>\n",
       "      <td>2010 NHL Playoff</td>\n",
       "      <td>17</td>\n",
       "      <td>3</td>\n",
       "      <td>3</td>\n",
       "      <td>17.0</td>\n",
       "      <td>22.0</td>\n",
       "      <td>7</td>\n",
       "      <td>Buffalo Sabres</td>\n",
       "      <td>0.428571</td>\n",
       "      <td>2.428571</td>\n",
       "      <td>3.142857</td>\n",
       "    </tr>\n",
       "    <tr>\n",
       "      <th>3</th>\n",
       "      <td>CHI</td>\n",
       "      <td>27</td>\n",
       "      <td>39</td>\n",
       "      <td>6.0</td>\n",
       "      <td>2010 NHL Playoff</td>\n",
       "      <td>6</td>\n",
       "      <td>3</td>\n",
       "      <td>3</td>\n",
       "      <td>22.0</td>\n",
       "      <td>16.0</td>\n",
       "      <td>7</td>\n",
       "      <td>Chicago Blackhawks</td>\n",
       "      <td>0.428571</td>\n",
       "      <td>3.142857</td>\n",
       "      <td>2.285714</td>\n",
       "    </tr>\n",
       "    <tr>\n",
       "      <th>4</th>\n",
       "      <td>DET</td>\n",
       "      <td>59</td>\n",
       "      <td>55</td>\n",
       "      <td>6.0</td>\n",
       "      <td>2010 NHL Playoff</td>\n",
       "      <td>18</td>\n",
       "      <td>3</td>\n",
       "      <td>7</td>\n",
       "      <td>36.0</td>\n",
       "      <td>27.0</td>\n",
       "      <td>11</td>\n",
       "      <td>Detroit Red Wings</td>\n",
       "      <td>0.636364</td>\n",
       "      <td>3.272727</td>\n",
       "      <td>2.454545</td>\n",
       "    </tr>\n",
       "  </tbody>\n",
       "</table>\n",
       "</div>"
      ],
      "text/plain": [
       "  tricode   pp   pk  ppgf  competition_name  tid  type  win  goals_for  \\\n",
       "0     ANA   35   27   9.0  2010 NHL Playoff   21     3    2       19.0   \n",
       "1     BOS  126  116  22.0  2010 NHL Playoff   20     3   16       76.0   \n",
       "2     BUF   48   46  13.0  2010 NHL Playoff   17     3    3       17.0   \n",
       "3     CHI   27   39   6.0  2010 NHL Playoff    6     3    3       22.0   \n",
       "4     DET   59   55   6.0  2010 NHL Playoff   18     3    7       36.0   \n",
       "\n",
       "   goals_against  game_count           team_name   win_pct    avg_gf    avg_ga  \n",
       "0           22.0           6       Anaheim Ducks  0.333333  3.166667  3.666667  \n",
       "1           48.0          24       Boston Bruins  0.666667  3.166667  2.000000  \n",
       "2           22.0           7      Buffalo Sabres  0.428571  2.428571  3.142857  \n",
       "3           16.0           7  Chicago Blackhawks  0.428571  3.142857  2.285714  \n",
       "4           27.0          11   Detroit Red Wings  0.636364  3.272727  2.454545  "
      ]
     },
     "execution_count": 2,
     "metadata": {},
     "output_type": "execute_result"
    }
   ],
   "source": [
    "NHL_Team_Stats=pd.read_csv(\"../../Data/Week 4/NHL_Team_Stats.csv\")\n",
    "NHL_Team_R_Stats=pd.read_csv(\"../../Data/Week 4/NHL_Team_R_Stats.csv\")\n",
    "NHL_Team_Stats.head()"
   ]
  },
  {
   "cell_type": "markdown",
   "metadata": {
    "scrolled": false
   },
   "source": [
    "## Regression analyses in Python\n",
    "#### To run regressions in Python, we will introduce a new library, “statsmodels,” which is a Python module that provides classes and functions for the estimation of many different statistical models, as well as for conducting statistical tests, and statistical data exploration."
   ]
  },
  {
   "cell_type": "code",
   "execution_count": 3,
   "metadata": {},
   "outputs": [],
   "source": [
    "import statsmodels.formula.api as sm"
   ]
  },
  {
   "cell_type": "markdown",
   "metadata": {},
   "source": [
    "At the end of the assignment in week 2, we observed that there is a linear relationship between total goals for and winning percentage. Let’s run a regression where winning percentage is the dependent variable and total goals for is the explanatory variable. \n",
    "- We can use the command “ols()” to indicate an ordinary least squared regression. \n",
    "- The “fit()” function would allow us to obtain the estimated coefficient of our regression model."
   ]
  },
  {
   "cell_type": "code",
   "execution_count": 4,
   "metadata": {},
   "outputs": [],
   "source": [
    "reg1 = sm.ols(formula = 'win_pct ~ goals_for', data= NHL_Team_R_Stats).fit()"
   ]
  },
  {
   "cell_type": "markdown",
   "metadata": {},
   "source": [
    "After we run a regression, we can use the “summary()” command to obtain a number of statistics from our regression model.\n"
   ]
  },
  {
   "cell_type": "code",
   "execution_count": 5,
   "metadata": {},
   "outputs": [
    {
     "name": "stdout",
     "output_type": "stream",
     "text": [
      "                            OLS Regression Results                            \n",
      "==============================================================================\n",
      "Dep. Variable:                win_pct   R-squared:                       0.591\n",
      "Model:                            OLS   Adj. R-squared:                  0.588\n",
      "Method:                 Least Squares   F-statistic:                     258.2\n",
      "Date:                Wed, 14 Dec 2022   Prob (F-statistic):           1.52e-36\n",
      "Time:                        15:50:42   Log-Likelihood:                 253.82\n",
      "No. Observations:                 181   AIC:                            -503.6\n",
      "Df Residuals:                     179   BIC:                            -497.3\n",
      "Df Model:                           1                                         \n",
      "Covariance Type:            nonrobust                                         \n",
      "==============================================================================\n",
      "                 coef    std err          t      P>|t|      [0.025      0.975]\n",
      "------------------------------------------------------------------------------\n",
      "Intercept     -0.1781      0.042     -4.222      0.000      -0.261      -0.095\n",
      "goals_for      0.0030      0.000     16.067      0.000       0.003       0.003\n",
      "==============================================================================\n",
      "Omnibus:                        0.122   Durbin-Watson:                   1.709\n",
      "Prob(Omnibus):                  0.941   Jarque-Bera (JB):                0.197\n",
      "Skew:                          -0.060   Prob(JB):                        0.906\n",
      "Kurtosis:                       2.891   Cond. No.                     2.18e+03\n",
      "==============================================================================\n",
      "\n",
      "Warnings:\n",
      "[1] Standard Errors assume that the covariance matrix of the errors is correctly specified.\n",
      "[2] The condition number is large, 2.18e+03. This might indicate that there are\n",
      "strong multicollinearity or other numerical problems.\n"
     ]
    }
   ],
   "source": [
    "print(reg1.summary())"
   ]
  },
  {
   "cell_type": "markdown",
   "metadata": {},
   "source": [
    "### Interpreting results\n",
    "From the result table, we can see that the dependent variable is winning percentage (\"win_pct\") and there are 181 observations in this regression. The independent variable is the number of goals for the team (\"goals_for\"). An intercept is also included in the regression. \n",
    "\n",
    "The estimated coefficient on goals_for is 0.003. This means that an additional goal scored by the team will increase the team's winning percentage of 0.003. The estimate on the intercept is -0.1781. This means that without scoring any goal, the winning percentage for the team would be -0.1781. As we know, the winning percentage cannot be negative. The reason we get a negative estimate on the intercept is because in our sample, there is not a single game where a team scored zero goals.\n",
    "\n",
    "- t-statistics and p-value\n",
    "\n",
    "t-statistics is defined as the estimated coefficient divided by its standard error. If the estimated coefficient is large compared to its standard error, then it is likely to be different than zero. \n",
    "\n",
    "p-value is defined as the probability of obtaining a result as extreme as the result actually observed, in this case, the t-statistics we have in the regression analysis. Comparing the t-statistics with the student t distribution, if 95% of the t distribution is closer to the mean than the t-statistics, we will have p-value of 0.05, which is also referred to a 5% significance level. A p-value no more than 0.05 (5%) is generally accepted in rejecting the null hypothesis. We say that the estimated coefficient is statistically significant at the 5% level.\n",
    "\n",
    "In this regression, the p-value of the goals_for variable is 0.000 which suggests that the estimate is statistically significant at the 1% level.\n",
    "\n",
    "\n",
    "- R-squared\n",
    "\n",
    "\n",
    "R-squared measures the goodness of fit of the model. The R-squared of a regression is the fraction of the variation in the dependent variable that is accounted for by the independent variables. R-squared is always between 0 and 1. The larger the R-squared, the more variation is accounted for by the regression model.\n",
    "\n",
    "In this regression, the R-squared is 0.591 which means that approximately 59.1% of the variation of the winning percentage is accounted for by the model."
   ]
  },
  {
   "cell_type": "markdown",
   "metadata": {},
   "source": [
    "#### Let's explore the relationship between goals_against and winning percentage in the regular season.\n",
    "- Create a scatter plot to depict the relationship between total goals against and winning percentage without seperating the data by competition"
   ]
  },
  {
   "cell_type": "code",
   "execution_count": 6,
   "metadata": {},
   "outputs": [
    {
     "data": {
      "text/plain": [
       "Text(0.5, 1.0, 'Relationship between Goals against and Winning Percentage')"
      ]
     },
     "execution_count": 6,
     "metadata": {},
     "output_type": "execute_result"
    },
    {
     "data": {
      "image/png": "[encoded data removed]",
      "text/plain": [
       "<Figure size 360x360 with 1 Axes>"
      ]
     },
     "metadata": {
      "needs_background": "light"
     },
     "output_type": "display_data"
    }
   ],
   "source": [
    "import seaborn as sns\n",
    "sns.lmplot(x='goals_against', y='win_pct',  data=NHL_Team_R_Stats)\n",
    "plt.xlabel('Total Goals against')\n",
    "plt.ylabel('Winning Percentage')\n",
    "plt.title(\"Relationship between Goals against and Winning Percentage\", fontsize=20)"
   ]
  },
  {
   "cell_type": "markdown",
   "metadata": {},
   "source": [
    "- Calculate the correlation coefficient between goals against and winning percentage\n"
   ]
  },
  {
   "cell_type": "code",
   "execution_count": 7,
   "metadata": {},
   "outputs": [
    {
     "data": {
      "text/plain": [
       "-0.7445117715217243"
      ]
     },
     "execution_count": 7,
     "metadata": {},
     "output_type": "execute_result"
    }
   ],
   "source": [
    "NHL_Team_R_Stats['goals_against'].corr(NHL_Team_R_Stats['win_pct'])"
   ]
  },
  {
   "cell_type": "markdown",
   "metadata": {},
   "source": [
    "- Run a simple linear regression to find NHL team winning percentage as a function of total goals against\n"
   ]
  },
  {
   "cell_type": "code",
   "execution_count": 8,
   "metadata": {},
   "outputs": [
    {
     "name": "stdout",
     "output_type": "stream",
     "text": [
      "                            OLS Regression Results                            \n",
      "==============================================================================\n",
      "Dep. Variable:                win_pct   R-squared:                       0.554\n",
      "Model:                            OLS   Adj. R-squared:                  0.552\n",
      "Method:                 Least Squares   F-statistic:                     222.6\n",
      "Date:                Wed, 14 Dec 2022   Prob (F-statistic):           3.09e-33\n",
      "Time:                        16:03:51   Log-Likelihood:                 246.15\n",
      "No. Observations:                 181   AIC:                            -488.3\n",
      "Df Residuals:                     179   BIC:                            -481.9\n",
      "Df Model:                           1                                         \n",
      "Covariance Type:            nonrobust                                         \n",
      "=================================================================================\n",
      "                    coef    std err          t      P>|t|      [0.025      0.975]\n",
      "---------------------------------------------------------------------------------\n",
      "Intercept         1.1651      0.045     25.839      0.000       1.076       1.254\n",
      "goals_against    -0.0029      0.000    -14.920      0.000      -0.003      -0.003\n",
      "==============================================================================\n",
      "Omnibus:                        0.581   Durbin-Watson:                   1.647\n",
      "Prob(Omnibus):                  0.748   Jarque-Bera (JB):                0.688\n",
      "Skew:                          -0.125   Prob(JB):                        0.709\n",
      "Kurtosis:                       2.830   Cond. No.                     2.23e+03\n",
      "==============================================================================\n",
      "\n",
      "Warnings:\n",
      "[1] Standard Errors assume that the covariance matrix of the errors is correctly specified.\n",
      "[2] The condition number is large, 2.23e+03. This might indicate that there are\n",
      "strong multicollinearity or other numerical problems.\n"
     ]
    }
   ],
   "source": [
    "reg2 = sm.ols(formula = 'win_pct ~ goals_against', data= NHL_Team_R_Stats).fit()\n",
    "print(reg2.summary())\n",
    "# one more goal allowed win % decreases by .29%"
   ]
  },
  {
   "cell_type": "markdown",
   "metadata": {},
   "source": [
    "## Self Test - 1\n",
    "1. Use the regular season data, create a scatterplot and a regression line to demonstrate the relationship between average goals for per game and winning percentage.\n",
    "2. Run a linear regression where winning percentage is the dependent variable and average goals for is the explanatory variable\n",
    "3. Interpret the coefficient on the average goals for, is this estimate statistically significant?\n",
    "4. How well does this regression do in fitting the data?"
   ]
  },
  {
   "cell_type": "code",
   "execution_count": 10,
   "metadata": {},
   "outputs": [
    {
     "data": {
      "text/plain": [
       "Text(0.5, 1.0, 'Relationship between Average Goals for and Win Per')"
      ]
     },
     "execution_count": 10,
     "metadata": {},
     "output_type": "execute_result"
    },
    {
     "data": {
      "image/png": "[encoded data removed]",
      "text/plain": [
       "<Figure size 360x360 with 1 Axes>"
      ]
     },
     "metadata": {
      "needs_background": "light"
     },
     "output_type": "display_data"
    }
   ],
   "source": [
    "#Your Code Here\n",
    "sns.lmplot(x='avg_gf', y='win_pct', data=NHL_Team_R_Stats)\n",
    "plt.xlabel('Average Goals per Game')\n",
    "plt.ylabel('Win %')\n",
    "plt.title('Relationship between Average Goals for and Win Per', fontsize=20)"
   ]
  },
  {
   "cell_type": "code",
   "execution_count": 12,
   "metadata": {},
   "outputs": [
    {
     "data": {
      "text/html": [
       "<table class=\"simpletable\">\n",
       "<caption>OLS Regression Results</caption>\n",
       "<tr>\n",
       "  <th>Dep. Variable:</th>         <td>avg_gf</td>      <th>  R-squared:         </th> <td>   0.573</td>\n",
       "</tr>\n",
       "<tr>\n",
       "  <th>Model:</th>                   <td>OLS</td>       <th>  Adj. R-squared:    </th> <td>   0.571</td>\n",
       "</tr>\n",
       "<tr>\n",
       "  <th>Method:</th>             <td>Least Squares</td>  <th>  F-statistic:       </th> <td>   240.1</td>\n",
       "</tr>\n",
       "<tr>\n",
       "  <th>Date:</th>             <td>Wed, 14 Dec 2022</td> <th>  Prob (F-statistic):</th> <td>6.66e-35</td>\n",
       "</tr>\n",
       "<tr>\n",
       "  <th>Time:</th>                 <td>16:19:26</td>     <th>  Log-Likelihood:    </th> <td>  40.437</td>\n",
       "</tr>\n",
       "<tr>\n",
       "  <th>No. Observations:</th>      <td>   181</td>      <th>  AIC:               </th> <td>  -76.87</td>\n",
       "</tr>\n",
       "<tr>\n",
       "  <th>Df Residuals:</th>          <td>   179</td>      <th>  BIC:               </th> <td>  -70.48</td>\n",
       "</tr>\n",
       "<tr>\n",
       "  <th>Df Model:</th>              <td>     1</td>      <th>                     </th>     <td> </td>   \n",
       "</tr>\n",
       "<tr>\n",
       "  <th>Covariance Type:</th>      <td>nonrobust</td>    <th>                     </th>     <td> </td>   \n",
       "</tr>\n",
       "</table>\n",
       "<table class=\"simpletable\">\n",
       "<tr>\n",
       "      <td></td>         <th>coef</th>     <th>std err</th>      <th>t</th>      <th>P>|t|</th>  <th>[0.025</th>    <th>0.975]</th>  \n",
       "</tr>\n",
       "<tr>\n",
       "  <th>Intercept</th> <td>    1.6492</td> <td>    0.078</td> <td>   21.023</td> <td> 0.000</td> <td>    1.494</td> <td>    1.804</td>\n",
       "</tr>\n",
       "<tr>\n",
       "  <th>win_pct</th>   <td>    2.4094</td> <td>    0.155</td> <td>   15.496</td> <td> 0.000</td> <td>    2.103</td> <td>    2.716</td>\n",
       "</tr>\n",
       "</table>\n",
       "<table class=\"simpletable\">\n",
       "<tr>\n",
       "  <th>Omnibus:</th>       <td> 0.047</td> <th>  Durbin-Watson:     </th> <td>   1.519</td>\n",
       "</tr>\n",
       "<tr>\n",
       "  <th>Prob(Omnibus):</th> <td> 0.977</td> <th>  Jarque-Bera (JB):  </th> <td>   0.023</td>\n",
       "</tr>\n",
       "<tr>\n",
       "  <th>Skew:</th>          <td>-0.024</td> <th>  Prob(JB):          </th> <td>   0.988</td>\n",
       "</tr>\n",
       "<tr>\n",
       "  <th>Kurtosis:</th>      <td> 2.972</td> <th>  Cond. No.          </th> <td>    13.4</td>\n",
       "</tr>\n",
       "</table><br/><br/>Warnings:<br/>[1] Standard Errors assume that the covariance matrix of the errors is correctly specified."
      ],
      "text/plain": [
       "<class 'statsmodels.iolib.summary.Summary'>\n",
       "\"\"\"\n",
       "                            OLS Regression Results                            \n",
       "==============================================================================\n",
       "Dep. Variable:                 avg_gf   R-squared:                       0.573\n",
       "Model:                            OLS   Adj. R-squared:                  0.571\n",
       "Method:                 Least Squares   F-statistic:                     240.1\n",
       "Date:                Wed, 14 Dec 2022   Prob (F-statistic):           6.66e-35\n",
       "Time:                        16:19:26   Log-Likelihood:                 40.437\n",
       "No. Observations:                 181   AIC:                            -76.87\n",
       "Df Residuals:                     179   BIC:                            -70.48\n",
       "Df Model:                           1                                         \n",
       "Covariance Type:            nonrobust                                         \n",
       "==============================================================================\n",
       "                 coef    std err          t      P>|t|      [0.025      0.975]\n",
       "------------------------------------------------------------------------------\n",
       "Intercept      1.6492      0.078     21.023      0.000       1.494       1.804\n",
       "win_pct        2.4094      0.155     15.496      0.000       2.103       2.716\n",
       "==============================================================================\n",
       "Omnibus:                        0.047   Durbin-Watson:                   1.519\n",
       "Prob(Omnibus):                  0.977   Jarque-Bera (JB):                0.023\n",
       "Skew:                          -0.024   Prob(JB):                        0.988\n",
       "Kurtosis:                       2.972   Cond. No.                         13.4\n",
       "==============================================================================\n",
       "\n",
       "Warnings:\n",
       "[1] Standard Errors assume that the covariance matrix of the errors is correctly specified.\n",
       "\"\"\""
      ]
     },
     "execution_count": 12,
     "metadata": {},
     "output_type": "execute_result"
    }
   ],
   "source": [
    "reg3= sm.ols(formula='avg_gf ~ win_pct', data=NHL_Team_R_Stats).fit()\n",
    "reg3.summary()"
   ]
  },
  {
   "cell_type": "code",
   "execution_count": 14,
   "metadata": {},
   "outputs": [
    {
     "data": {
      "text/plain": [
       "0.7569213656108744"
      ]
     },
     "execution_count": 14,
     "metadata": {},
     "output_type": "execute_result"
    }
   ],
   "source": [
    "NHL_Team_R_Stats['avg_gf'].corr(NHL_Team_R_Stats['win_pct'])"
   ]
  },
  {
   "cell_type": "markdown",
   "metadata": {},
   "source": [
    "### Multiple Regression -  more than one explanatory variables.\n",
    "Often times, the outcome variable of interest is affected by multiple factors. We can specify a regression equation where the outcome is function of more than one explanatory variables.\n",
    "\n",
    "Let's run a linear regression where winning percentage is a function of both average number of goals for per game and average number of goals against per game."
   ]
  },
  {
   "cell_type": "code",
   "execution_count": 15,
   "metadata": {},
   "outputs": [
    {
     "name": "stdout",
     "output_type": "stream",
     "text": [
      "                            OLS Regression Results                            \n",
      "==============================================================================\n",
      "Dep. Variable:                win_pct   R-squared:                       0.917\n",
      "Model:                            OLS   Adj. R-squared:                  0.916\n",
      "Method:                 Least Squares   F-statistic:                     985.1\n",
      "Date:                Wed, 14 Dec 2022   Prob (F-statistic):           5.39e-97\n",
      "Time:                        16:21:01   Log-Likelihood:                 398.42\n",
      "No. Observations:                 181   AIC:                            -790.8\n",
      "Df Residuals:                     178   BIC:                            -781.2\n",
      "Df Model:                           2                                         \n",
      "Covariance Type:            nonrobust                                         \n",
      "==============================================================================\n",
      "                 coef    std err          t      P>|t|      [0.025      0.975]\n",
      "------------------------------------------------------------------------------\n",
      "Intercept      0.4862      0.031     15.559      0.000       0.425       0.548\n",
      "avg_gf         0.1909      0.007     27.295      0.000       0.177       0.205\n",
      "avg_ga        -0.1874      0.007    -27.193      0.000      -0.201      -0.174\n",
      "==============================================================================\n",
      "Omnibus:                        1.055   Durbin-Watson:                   1.989\n",
      "Prob(Omnibus):                  0.590   Jarque-Bera (JB):                0.969\n",
      "Skew:                           0.179   Prob(JB):                        0.616\n",
      "Kurtosis:                       2.974   Cond. No.                         66.6\n",
      "==============================================================================\n",
      "\n",
      "Warnings:\n",
      "[1] Standard Errors assume that the covariance matrix of the errors is correctly specified.\n"
     ]
    }
   ],
   "source": [
    "reg4 = sm.ols(formula = 'win_pct ~ avg_gf+avg_ga', data= NHL_Team_R_Stats).fit()\n",
    "print(reg4.summary())"
   ]
  },
  {
   "cell_type": "markdown",
   "metadata": {},
   "source": [
    "_Interpret the coefficients_\n",
    "\n",
    "- Average goals for: for the same average number of goals against, scoring one more goal per game will increase the winning percentage by 0.1909 (19.09%)\n",
    "- Average goals against: having the same average number of goals for per game, conceding one more goal per game will decrease the winning percentage by 0.1874 (18.74%)"
   ]
  },
  {
   "cell_type": "markdown",
   "metadata": {},
   "source": [
    "### Regression with categorical variables\n",
    "In the above regressions, we focus on using quantitative variables as explanatory variables. We could also include categorical variables as explanatory variables in the regression as well.\n",
    "\n",
    "Essentially, when we incorporate a categorical variable, we first transform it into dummy variable(s) that carry value of either 0 or 1. We then use the dummy variable(s) into our regression.\n",
    "\n",
    "Let's consider the dataset that includes both regular season and playoff. In this dataset, the variable \"type\" captures whether a game is a regular season game or playoff game. type=2 means it is regular season competition while type=3 means it is a playoff game.\n",
    "\n",
    "_We will first convert variable \"type\" into categorical variable._"
   ]
  },
  {
   "cell_type": "code",
   "execution_count": 16,
   "metadata": {},
   "outputs": [
    {
     "data": {
      "text/html": [
       "<div>\n",
       "<style scoped>\n",
       "    .dataframe tbody tr th:only-of-type {\n",
       "        vertical-align: middle;\n",
       "    }\n",
       "\n",
       "    .dataframe tbody tr th {\n",
       "        vertical-align: top;\n",
       "    }\n",
       "\n",
       "    .dataframe thead th {\n",
       "        text-align: right;\n",
       "    }\n",
       "</style>\n",
       "<table border=\"1\" class=\"dataframe\">\n",
       "  <thead>\n",
       "    <tr style=\"text-align: right;\">\n",
       "      <th></th>\n",
       "      <th>tricode</th>\n",
       "      <th>pp</th>\n",
       "      <th>pk</th>\n",
       "      <th>ppgf</th>\n",
       "      <th>competition_name</th>\n",
       "      <th>tid</th>\n",
       "      <th>type</th>\n",
       "      <th>win</th>\n",
       "      <th>goals_for</th>\n",
       "      <th>goals_against</th>\n",
       "      <th>game_count</th>\n",
       "      <th>team_name</th>\n",
       "      <th>win_pct</th>\n",
       "      <th>avg_gf</th>\n",
       "      <th>avg_ga</th>\n",
       "    </tr>\n",
       "  </thead>\n",
       "  <tbody>\n",
       "    <tr>\n",
       "      <th>0</th>\n",
       "      <td>ANA</td>\n",
       "      <td>35</td>\n",
       "      <td>27</td>\n",
       "      <td>9.0</td>\n",
       "      <td>2010 NHL Playoff</td>\n",
       "      <td>21</td>\n",
       "      <td>3</td>\n",
       "      <td>2</td>\n",
       "      <td>19.0</td>\n",
       "      <td>22.0</td>\n",
       "      <td>6</td>\n",
       "      <td>Anaheim Ducks</td>\n",
       "      <td>0.333333</td>\n",
       "      <td>3.166667</td>\n",
       "      <td>3.666667</td>\n",
       "    </tr>\n",
       "    <tr>\n",
       "      <th>1</th>\n",
       "      <td>BOS</td>\n",
       "      <td>126</td>\n",
       "      <td>116</td>\n",
       "      <td>22.0</td>\n",
       "      <td>2010 NHL Playoff</td>\n",
       "      <td>20</td>\n",
       "      <td>3</td>\n",
       "      <td>16</td>\n",
       "      <td>76.0</td>\n",
       "      <td>48.0</td>\n",
       "      <td>24</td>\n",
       "      <td>Boston Bruins</td>\n",
       "      <td>0.666667</td>\n",
       "      <td>3.166667</td>\n",
       "      <td>2.000000</td>\n",
       "    </tr>\n",
       "    <tr>\n",
       "      <th>2</th>\n",
       "      <td>BUF</td>\n",
       "      <td>48</td>\n",
       "      <td>46</td>\n",
       "      <td>13.0</td>\n",
       "      <td>2010 NHL Playoff</td>\n",
       "      <td>17</td>\n",
       "      <td>3</td>\n",
       "      <td>3</td>\n",
       "      <td>17.0</td>\n",
       "      <td>22.0</td>\n",
       "      <td>7</td>\n",
       "      <td>Buffalo Sabres</td>\n",
       "      <td>0.428571</td>\n",
       "      <td>2.428571</td>\n",
       "      <td>3.142857</td>\n",
       "    </tr>\n",
       "    <tr>\n",
       "      <th>3</th>\n",
       "      <td>CHI</td>\n",
       "      <td>27</td>\n",
       "      <td>39</td>\n",
       "      <td>6.0</td>\n",
       "      <td>2010 NHL Playoff</td>\n",
       "      <td>6</td>\n",
       "      <td>3</td>\n",
       "      <td>3</td>\n",
       "      <td>22.0</td>\n",
       "      <td>16.0</td>\n",
       "      <td>7</td>\n",
       "      <td>Chicago Blackhawks</td>\n",
       "      <td>0.428571</td>\n",
       "      <td>3.142857</td>\n",
       "      <td>2.285714</td>\n",
       "    </tr>\n",
       "    <tr>\n",
       "      <th>4</th>\n",
       "      <td>DET</td>\n",
       "      <td>59</td>\n",
       "      <td>55</td>\n",
       "      <td>6.0</td>\n",
       "      <td>2010 NHL Playoff</td>\n",
       "      <td>18</td>\n",
       "      <td>3</td>\n",
       "      <td>7</td>\n",
       "      <td>36.0</td>\n",
       "      <td>27.0</td>\n",
       "      <td>11</td>\n",
       "      <td>Detroit Red Wings</td>\n",
       "      <td>0.636364</td>\n",
       "      <td>3.272727</td>\n",
       "      <td>2.454545</td>\n",
       "    </tr>\n",
       "  </tbody>\n",
       "</table>\n",
       "</div>"
      ],
      "text/plain": [
       "  tricode   pp   pk  ppgf  competition_name  tid  type  win  goals_for  \\\n",
       "0     ANA   35   27   9.0  2010 NHL Playoff   21     3    2       19.0   \n",
       "1     BOS  126  116  22.0  2010 NHL Playoff   20     3   16       76.0   \n",
       "2     BUF   48   46  13.0  2010 NHL Playoff   17     3    3       17.0   \n",
       "3     CHI   27   39   6.0  2010 NHL Playoff    6     3    3       22.0   \n",
       "4     DET   59   55   6.0  2010 NHL Playoff   18     3    7       36.0   \n",
       "\n",
       "   goals_against  game_count           team_name   win_pct    avg_gf    avg_ga  \n",
       "0           22.0           6       Anaheim Ducks  0.333333  3.166667  3.666667  \n",
       "1           48.0          24       Boston Bruins  0.666667  3.166667  2.000000  \n",
       "2           22.0           7      Buffalo Sabres  0.428571  2.428571  3.142857  \n",
       "3           16.0           7  Chicago Blackhawks  0.428571  3.142857  2.285714  \n",
       "4           27.0          11   Detroit Red Wings  0.636364  3.272727  2.454545  "
      ]
     },
     "execution_count": 16,
     "metadata": {},
     "output_type": "execute_result"
    }
   ],
   "source": [
    "NHL_Team_Stats.head()"
   ]
  },
  {
   "cell_type": "code",
   "execution_count": 17,
   "metadata": {},
   "outputs": [],
   "source": [
    "NHL_Team_Stats['type']=NHL_Team_Stats['type'].astype(object)"
   ]
  },
  {
   "cell_type": "markdown",
   "metadata": {},
   "source": [
    "Now we can run a regression where winning percentage is a function of average goals for and the type of competition. "
   ]
  },
  {
   "cell_type": "code",
   "execution_count": 18,
   "metadata": {},
   "outputs": [
    {
     "name": "stdout",
     "output_type": "stream",
     "text": [
      "                            OLS Regression Results                            \n",
      "==============================================================================\n",
      "Dep. Variable:                win_pct   R-squared:                       0.426\n",
      "Model:                            OLS   Adj. R-squared:                  0.423\n",
      "Method:                 Least Squares   F-statistic:                     136.0\n",
      "Date:                Wed, 14 Dec 2022   Prob (F-statistic):           6.88e-45\n",
      "Time:                        16:25:33   Log-Likelihood:                 320.28\n",
      "No. Observations:                 369   AIC:                            -634.6\n",
      "Df Residuals:                     366   BIC:                            -622.8\n",
      "Df Model:                           2                                         \n",
      "Covariance Type:            nonrobust                                         \n",
      "==============================================================================\n",
      "                 coef    std err          t      P>|t|      [0.025      0.975]\n",
      "------------------------------------------------------------------------------\n",
      "Intercept     -0.0197      0.035     -0.558      0.577      -0.089       0.050\n",
      "type[T.3]     -0.0160      0.012     -1.344      0.180      -0.039       0.007\n",
      "avg_gf         0.1818      0.012     14.914      0.000       0.158       0.206\n",
      "==============================================================================\n",
      "Omnibus:                       63.422   Durbin-Watson:                   1.880\n",
      "Prob(Omnibus):                  0.000   Jarque-Bera (JB):              156.332\n",
      "Skew:                          -0.843   Prob(JB):                     1.13e-34\n",
      "Kurtosis:                       5.707   Cond. No.                         20.9\n",
      "==============================================================================\n",
      "\n",
      "Warnings:\n",
      "[1] Standard Errors assume that the covariance matrix of the errors is correctly specified.\n"
     ]
    }
   ],
   "source": [
    "reg5 = sm.ols(formula = 'win_pct ~ avg_gf+type', data= NHL_Team_Stats).fit()\n",
    "print(reg5.summary())"
   ]
  },
  {
   "cell_type": "markdown",
   "metadata": {},
   "source": [
    "A dummy variable = 1 if type= 3 (playoff) and = 0 if type = 2 (regular season) is included in the regression.\n",
    "\n",
    "_Interpretation: with the same average goals for per game, the winning percentage in the playoff games is 0.0160 (1.6%) lower than the winning percentage in the regular season games._\n"
   ]
  },
  {
   "cell_type": "markdown",
   "metadata": {},
   "source": [
    "## Self Test - 2\n",
    "1. Run a regression where winning percentage is a function of average goals for, average goals against, and control for the different competitions.\n",
    "\n",
    "2. Interpret the coefficients."
   ]
  },
  {
   "cell_type": "code",
   "execution_count": 21,
   "metadata": {},
   "outputs": [
    {
     "name": "stdout",
     "output_type": "stream",
     "text": [
      "                            OLS Regression Results                            \n",
      "==============================================================================\n",
      "Dep. Variable:                win_pct   R-squared:                       0.451\n",
      "Model:                            OLS   Adj. R-squared:                  0.426\n",
      "Method:                 Least Squares   F-statistic:                     18.07\n",
      "Date:                Wed, 14 Dec 2022   Prob (F-statistic):           7.16e-37\n",
      "Time:                        16:28:58   Log-Likelihood:                 328.38\n",
      "No. Observations:                 369   AIC:                            -622.8\n",
      "Df Residuals:                     352   BIC:                            -556.3\n",
      "Df Model:                          16                                         \n",
      "Covariance Type:            nonrobust                                         \n",
      "===============================================================================================================\n",
      "                                                  coef    std err          t      P>|t|      [0.025      0.975]\n",
      "---------------------------------------------------------------------------------------------------------------\n",
      "Intercept                                      -0.0951      0.042     -2.245      0.025      -0.178      -0.012\n",
      "competition_name[T.2010 NHL Regular Season]     0.0411      0.032      1.303      0.194      -0.021       0.103\n",
      "competition_name[T.2011 NHL Playoff]            0.0719      0.036      1.984      0.048       0.001       0.143\n",
      "competition_name[T.2011 NHL Regular Season]     0.0439      0.032      1.391      0.165      -0.018       0.106\n",
      "competition_name[T.2012 NHL Playoff]            0.0617      0.036      1.704      0.089      -0.010       0.133\n",
      "competition_name[T.2012 NHL Regular Season]     0.0561      0.032      1.780      0.076      -0.006       0.118\n",
      "competition_name[T.2013 NHL Playoff]            0.0079      0.036      0.220      0.826      -0.063       0.079\n",
      "competition_name[T.2013 NHL Regular Season]     0.0480      0.032      1.521      0.129      -0.014       0.110\n",
      "competition_name[T.2014 NHL Playoff]            0.0536      0.036      1.484      0.139      -0.017       0.125\n",
      "competition_name[T.2014 NHL Regular Season]     0.0503      0.032      1.596      0.111      -0.012       0.112\n",
      "competition_name[T.2015 NHL Playoff]            0.0557      0.036      1.541      0.124      -0.015       0.127\n",
      "competition_name[T.2015 NHL Regular Season]     0.0602      0.032      1.912      0.057      -0.002       0.122\n",
      "competition_name[T.2016 NHL Playoff]            0.0275      0.036      0.760      0.448      -0.044       0.099\n",
      "competition_name[T.2016 NHL Regular Season]     0.0520      0.032      1.650      0.100      -0.010       0.114\n",
      "competition_name[T.2017 NHL Playoff]           -0.0167      0.036     -0.463      0.644      -0.087       0.054\n",
      "competition_name[T.2017 NHL Regular Season]     0.0100      0.032      0.316      0.752      -0.052       0.072\n",
      "avg_gf                                          0.1925      0.013     15.375      0.000       0.168       0.217\n",
      "==============================================================================\n",
      "Omnibus:                       80.127   Durbin-Watson:                   1.963\n",
      "Prob(Omnibus):                  0.000   Jarque-Bera (JB):              229.469\n",
      "Skew:                          -1.000   Prob(JB):                     1.48e-50\n",
      "Kurtosis:                       6.305   Cond. No.                         58.1\n",
      "==============================================================================\n",
      "\n",
      "Warnings:\n",
      "[1] Standard Errors assume that the covariance matrix of the errors is correctly specified.\n"
     ]
    }
   ],
   "source": [
    "#Your Code Here\n",
    "reg6= sm.ols(formula= 'win_pct ~ avg_gf+competition_name', data=NHL_Team_Stats).fit()\n",
    "print(reg6.summary())"
   ]
  },
  {
   "cell_type": "markdown",
   "metadata": {},
   "source": [
    "### Regression with an interaction term\n",
    "\n",
    "What if the impact of an independent variable depends on the value of another variable? We can use interaction terms to allow for different impact of a variable based on one or more levels of another categorical variable.\n",
    "\n",
    "Let's consider the possibility that the average goals for may have different impact on winning percentage depending on the type of the game. We can run a regression of winning percentage on the average goals for, the type of the game, as well as the interaction between average goals for and type."
   ]
  },
  {
   "cell_type": "code",
   "execution_count": 22,
   "metadata": {},
   "outputs": [
    {
     "name": "stdout",
     "output_type": "stream",
     "text": [
      "                            OLS Regression Results                            \n",
      "==============================================================================\n",
      "Dep. Variable:                win_pct   R-squared:                       0.441\n",
      "Model:                            OLS   Adj. R-squared:                  0.436\n",
      "Method:                 Least Squares   F-statistic:                     96.00\n",
      "Date:                Wed, 14 Dec 2022   Prob (F-statistic):           8.01e-46\n",
      "Time:                        16:29:17   Log-Likelihood:                 325.08\n",
      "No. Observations:                 369   AIC:                            -642.2\n",
      "Df Residuals:                     365   BIC:                            -626.5\n",
      "Df Model:                           3                                         \n",
      "Covariance Type:            nonrobust                                         \n",
      "====================================================================================\n",
      "                       coef    std err          t      P>|t|      [0.025      0.975]\n",
      "------------------------------------------------------------------------------------\n",
      "Intercept           -0.1748      0.061     -2.868      0.004      -0.295      -0.055\n",
      "type[T.3]            0.2029      0.072      2.835      0.005       0.062       0.344\n",
      "avg_gf               0.2365      0.021     11.081      0.000       0.194       0.278\n",
      "avg_gf:type[T.3]    -0.0802      0.026     -3.102      0.002      -0.131      -0.029\n",
      "==============================================================================\n",
      "Omnibus:                       59.042   Durbin-Watson:                   1.801\n",
      "Prob(Omnibus):                  0.000   Jarque-Bera (JB):              145.437\n",
      "Skew:                          -0.787   Prob(JB):                     2.62e-32\n",
      "Kurtosis:                       5.643   Cond. No.                         56.6\n",
      "==============================================================================\n",
      "\n",
      "Warnings:\n",
      "[1] Standard Errors assume that the covariance matrix of the errors is correctly specified.\n"
     ]
    }
   ],
   "source": [
    "reg7 = sm.ols(formula = 'win_pct ~ avg_gf+type+avg_gf*type', data= NHL_Team_Stats).fit()\n",
    "print(reg7.summary())"
   ]
  },
  {
   "cell_type": "markdown",
   "metadata": {},
   "source": [
    "_Interpretations_\n",
    "\n",
    "- For regular season games (type =2), scoring one more goal per game can increase the winning percentage by 0.2365 (23.65%);\n",
    "- For the playoff games (type =3), scoring one more goal per game will increase the winning percentage by 0.2365-0.0802=0.1563 (15.63%).\n",
    "\n",
    "\n",
    "## Self Test - 3\n",
    "#### Perform a similar exercise to find the relationship between the actual winning percentage and pythagorean winning percentage\n",
    "1. In the NHL_Team_Stats data, create the pythagorean winning percentage=goals_for^2/(goals_for^2+goals_against^2), call this new variable \"pyth_pct\"\n",
    "(In Python, ** is the operator for exponentiation. For example, the square of x would be x**2 in Python.)"
   ]
  },
  {
   "cell_type": "code",
   "execution_count": 24,
   "metadata": {},
   "outputs": [
    {
     "data": {
      "text/html": [
       "<div>\n",
       "<style scoped>\n",
       "    .dataframe tbody tr th:only-of-type {\n",
       "        vertical-align: middle;\n",
       "    }\n",
       "\n",
       "    .dataframe tbody tr th {\n",
       "        vertical-align: top;\n",
       "    }\n",
       "\n",
       "    .dataframe thead th {\n",
       "        text-align: right;\n",
       "    }\n",
       "</style>\n",
       "<table border=\"1\" class=\"dataframe\">\n",
       "  <thead>\n",
       "    <tr style=\"text-align: right;\">\n",
       "      <th></th>\n",
       "      <th>tricode</th>\n",
       "      <th>pp</th>\n",
       "      <th>pk</th>\n",
       "      <th>ppgf</th>\n",
       "      <th>competition_name</th>\n",
       "      <th>tid</th>\n",
       "      <th>type</th>\n",
       "      <th>win</th>\n",
       "      <th>goals_for</th>\n",
       "      <th>goals_against</th>\n",
       "      <th>game_count</th>\n",
       "      <th>team_name</th>\n",
       "      <th>win_pct</th>\n",
       "      <th>avg_gf</th>\n",
       "      <th>avg_ga</th>\n",
       "      <th>pyth_pct</th>\n",
       "    </tr>\n",
       "  </thead>\n",
       "  <tbody>\n",
       "    <tr>\n",
       "      <th>0</th>\n",
       "      <td>ANA</td>\n",
       "      <td>35</td>\n",
       "      <td>27</td>\n",
       "      <td>9.0</td>\n",
       "      <td>2010 NHL Playoff</td>\n",
       "      <td>21</td>\n",
       "      <td>3</td>\n",
       "      <td>2</td>\n",
       "      <td>19.0</td>\n",
       "      <td>22.0</td>\n",
       "      <td>6</td>\n",
       "      <td>Anaheim Ducks</td>\n",
       "      <td>0.333333</td>\n",
       "      <td>3.166667</td>\n",
       "      <td>3.666667</td>\n",
       "      <td>0.427219</td>\n",
       "    </tr>\n",
       "    <tr>\n",
       "      <th>1</th>\n",
       "      <td>BOS</td>\n",
       "      <td>126</td>\n",
       "      <td>116</td>\n",
       "      <td>22.0</td>\n",
       "      <td>2010 NHL Playoff</td>\n",
       "      <td>20</td>\n",
       "      <td>3</td>\n",
       "      <td>16</td>\n",
       "      <td>76.0</td>\n",
       "      <td>48.0</td>\n",
       "      <td>24</td>\n",
       "      <td>Boston Bruins</td>\n",
       "      <td>0.666667</td>\n",
       "      <td>3.166667</td>\n",
       "      <td>2.000000</td>\n",
       "      <td>0.714851</td>\n",
       "    </tr>\n",
       "    <tr>\n",
       "      <th>2</th>\n",
       "      <td>BUF</td>\n",
       "      <td>48</td>\n",
       "      <td>46</td>\n",
       "      <td>13.0</td>\n",
       "      <td>2010 NHL Playoff</td>\n",
       "      <td>17</td>\n",
       "      <td>3</td>\n",
       "      <td>3</td>\n",
       "      <td>17.0</td>\n",
       "      <td>22.0</td>\n",
       "      <td>7</td>\n",
       "      <td>Buffalo Sabres</td>\n",
       "      <td>0.428571</td>\n",
       "      <td>2.428571</td>\n",
       "      <td>3.142857</td>\n",
       "      <td>0.373868</td>\n",
       "    </tr>\n",
       "    <tr>\n",
       "      <th>3</th>\n",
       "      <td>CHI</td>\n",
       "      <td>27</td>\n",
       "      <td>39</td>\n",
       "      <td>6.0</td>\n",
       "      <td>2010 NHL Playoff</td>\n",
       "      <td>6</td>\n",
       "      <td>3</td>\n",
       "      <td>3</td>\n",
       "      <td>22.0</td>\n",
       "      <td>16.0</td>\n",
       "      <td>7</td>\n",
       "      <td>Chicago Blackhawks</td>\n",
       "      <td>0.428571</td>\n",
       "      <td>3.142857</td>\n",
       "      <td>2.285714</td>\n",
       "      <td>0.654054</td>\n",
       "    </tr>\n",
       "    <tr>\n",
       "      <th>4</th>\n",
       "      <td>DET</td>\n",
       "      <td>59</td>\n",
       "      <td>55</td>\n",
       "      <td>6.0</td>\n",
       "      <td>2010 NHL Playoff</td>\n",
       "      <td>18</td>\n",
       "      <td>3</td>\n",
       "      <td>7</td>\n",
       "      <td>36.0</td>\n",
       "      <td>27.0</td>\n",
       "      <td>11</td>\n",
       "      <td>Detroit Red Wings</td>\n",
       "      <td>0.636364</td>\n",
       "      <td>3.272727</td>\n",
       "      <td>2.454545</td>\n",
       "      <td>0.640000</td>\n",
       "    </tr>\n",
       "  </tbody>\n",
       "</table>\n",
       "</div>"
      ],
      "text/plain": [
       "  tricode   pp   pk  ppgf  competition_name  tid type  win  goals_for  \\\n",
       "0     ANA   35   27   9.0  2010 NHL Playoff   21    3    2       19.0   \n",
       "1     BOS  126  116  22.0  2010 NHL Playoff   20    3   16       76.0   \n",
       "2     BUF   48   46  13.0  2010 NHL Playoff   17    3    3       17.0   \n",
       "3     CHI   27   39   6.0  2010 NHL Playoff    6    3    3       22.0   \n",
       "4     DET   59   55   6.0  2010 NHL Playoff   18    3    7       36.0   \n",
       "\n",
       "   goals_against  game_count           team_name   win_pct    avg_gf  \\\n",
       "0           22.0           6       Anaheim Ducks  0.333333  3.166667   \n",
       "1           48.0          24       Boston Bruins  0.666667  3.166667   \n",
       "2           22.0           7      Buffalo Sabres  0.428571  2.428571   \n",
       "3           16.0           7  Chicago Blackhawks  0.428571  3.142857   \n",
       "4           27.0          11   Detroit Red Wings  0.636364  3.272727   \n",
       "\n",
       "     avg_ga  pyth_pct  \n",
       "0  3.666667  0.427219  \n",
       "1  2.000000  0.714851  \n",
       "2  3.142857  0.373868  \n",
       "3  2.285714  0.654054  \n",
       "4  2.454545  0.640000  "
      ]
     },
     "execution_count": 24,
     "metadata": {},
     "output_type": "execute_result"
    }
   ],
   "source": [
    "#Your Code Here\n",
    "NHL_Team_Stats['pyth_pct']= NHL_Team_Stats.goals_for ** 2 / (NHL_Team_Stats.goals_for **2 + NHL_Team_Stats.goals_against **2)\n",
    "NHL_Team_Stats.head()"
   ]
  },
  {
   "cell_type": "markdown",
   "metadata": {},
   "source": [
    "2. Create a scatter plot to show the relationship between Pythagorean winning percentage and the actual winning percentage\n"
   ]
  },
  {
   "cell_type": "code",
   "execution_count": 25,
   "metadata": {},
   "outputs": [
    {
     "data": {
      "text/plain": [
       "Text(0.5, 1.0, 'Pyth Win Vs Win Pct')"
      ]
     },
     "execution_count": 25,
     "metadata": {},
     "output_type": "execute_result"
    },
    {
     "data": {
      "image/png": "[encoded data removed]",
      "text/plain": [
       "<Figure size 360x360 with 1 Axes>"
      ]
     },
     "metadata": {
      "needs_background": "light"
     },
     "output_type": "display_data"
    }
   ],
   "source": [
    "#Your Code Here\n",
    "sns.lmplot(x='pyth_pct', y='win_pct', data=NHL_Team_Stats)\n",
    "plt.xlabel('Pyth Win Perc')\n",
    "plt.ylabel('Win Pct')\n",
    "plt.title('Pyth Win Vs Win Pct', fontsize=20)"
   ]
  },
  {
   "cell_type": "markdown",
   "metadata": {},
   "source": [
    "3. Run a linear regression (reg8) where winning percentage is the dependent variable and Pythagorean winning percentage is the explanatory variable.\n",
    "4. Interpret the estimate on the Pythagorean winning percentage and the goodness of fit of the regression model.\n"
   ]
  },
  {
   "cell_type": "code",
   "execution_count": 27,
   "metadata": {},
   "outputs": [
    {
     "name": "stdout",
     "output_type": "stream",
     "text": [
      "                            OLS Regression Results                            \n",
      "==============================================================================\n",
      "Dep. Variable:                win_pct   R-squared:                       0.779\n",
      "Model:                            OLS   Adj. R-squared:                  0.779\n",
      "Method:                 Least Squares   F-statistic:                     1297.\n",
      "Date:                Wed, 14 Dec 2022   Prob (F-statistic):          1.65e-122\n",
      "Time:                        18:18:31   Log-Likelihood:                 496.63\n",
      "No. Observations:                 369   AIC:                            -989.3\n",
      "Df Residuals:                     367   BIC:                            -981.4\n",
      "Df Model:                           1                                         \n",
      "Covariance Type:            nonrobust                                         \n",
      "==============================================================================\n",
      "                 coef    std err          t      P>|t|      [0.025      0.975]\n",
      "------------------------------------------------------------------------------\n",
      "Intercept     -0.0447      0.015     -3.052      0.002      -0.074      -0.016\n",
      "pyth_pct       1.0673      0.030     36.011      0.000       1.009       1.126\n",
      "==============================================================================\n",
      "Omnibus:                       86.393   Durbin-Watson:                   2.032\n",
      "Prob(Omnibus):                  0.000   Jarque-Bera (JB):              317.333\n",
      "Skew:                          -0.989   Prob(JB):                     1.24e-69\n",
      "Kurtosis:                       7.090   Cond. No.                         11.1\n",
      "==============================================================================\n",
      "\n",
      "Warnings:\n",
      "[1] Standard Errors assume that the covariance matrix of the errors is correctly specified.\n"
     ]
    }
   ],
   "source": [
    "#Your Code Here\n",
    "reg8= sm.ols(formula= 'win_pct ~ pyth_pct', data=NHL_Team_Stats).fit()\n",
    "print(reg8.summary())"
   ]
  },
  {
   "cell_type": "markdown",
   "metadata": {},
   "source": [
    "5. Create a scatter plot to show the relationship between winning percentage and Pythagorean winning percentage, seperate the data points by the type of competition.\n"
   ]
  },
  {
   "cell_type": "code",
   "execution_count": 30,
   "metadata": {},
   "outputs": [
    {
     "data": {
      "text/plain": [
       "Text(0.5, 1.0, 'Pyth Win Vs Win Pct')"
      ]
     },
     "execution_count": 30,
     "metadata": {},
     "output_type": "execute_result"
    },
    {
     "data": {
      "image/png": "[encoded data removed]",
      "text/plain": [
       "<Figure size 526.25x360 with 1 Axes>"
      ]
     },
     "metadata": {
      "needs_background": "light"
     },
     "output_type": "display_data"
    }
   ],
   "source": [
    "#Your Code Here\n",
    "sns.lmplot(x='pyth_pct', y='win_pct', hue='competition_name', data=NHL_Team_Stats)\n",
    "plt.xlabel('Pyth Win Perc')\n",
    "plt.ylabel('Win Pct')\n",
    "plt.title('Pyth Win Vs Win Pct', fontsize=20)"
   ]
  },
  {
   "cell_type": "markdown",
   "metadata": {},
   "source": [
    "6. Run a regression (reg9) where winning percentage is the dependent variable and Pythagorean winning percentage is the explanatory variable, controlling for the different competitions.\n",
    "7. Interpret the estimate on the Pythagorean winning percentage and the goodness of fit of the regression model."
   ]
  },
  {
   "cell_type": "code",
   "execution_count": 31,
   "metadata": {},
   "outputs": [
    {
     "name": "stdout",
     "output_type": "stream",
     "text": [
      "                            OLS Regression Results                            \n",
      "==============================================================================\n",
      "Dep. Variable:                win_pct   R-squared:                       0.789\n",
      "Model:                            OLS   Adj. R-squared:                  0.780\n",
      "Method:                 Least Squares   F-statistic:                     82.48\n",
      "Date:                Wed, 14 Dec 2022   Prob (F-statistic):          1.94e-108\n",
      "Time:                        18:20:18   Log-Likelihood:                 505.19\n",
      "No. Observations:                 369   AIC:                            -976.4\n",
      "Df Residuals:                     352   BIC:                            -909.9\n",
      "Df Model:                          16                                         \n",
      "Covariance Type:            nonrobust                                         \n",
      "===============================================================================================================\n",
      "                                                  coef    std err          t      P>|t|      [0.025      0.975]\n",
      "---------------------------------------------------------------------------------------------------------------\n",
      "Intercept                                      -0.0607      0.021     -2.870      0.004      -0.102      -0.019\n",
      "competition_name[T.2010 NHL Regular Season]     0.0305      0.020      1.563      0.119      -0.008       0.069\n",
      "competition_name[T.2011 NHL Playoff]            0.0147      0.022      0.659      0.510      -0.029       0.058\n",
      "competition_name[T.2011 NHL Regular Season]     0.0359      0.020      1.838      0.067      -0.003       0.074\n",
      "competition_name[T.2012 NHL Playoff]            0.0251      0.022      1.125      0.261      -0.019       0.069\n",
      "competition_name[T.2012 NHL Regular Season]     0.0348      0.020      1.782      0.076      -0.004       0.073\n",
      "competition_name[T.2013 NHL Playoff]            0.0158      0.022      0.711      0.478      -0.028       0.060\n",
      "competition_name[T.2013 NHL Regular Season]     0.0347      0.020      1.778      0.076      -0.004       0.073\n",
      "competition_name[T.2014 NHL Playoff]           -0.0015      0.022     -0.068      0.946      -0.045       0.042\n",
      "competition_name[T.2014 NHL Regular Season]     0.0331      0.020      1.693      0.091      -0.005       0.072\n",
      "competition_name[T.2015 NHL Playoff]            0.0215      0.022      0.966      0.335      -0.022       0.065\n",
      "competition_name[T.2015 NHL Regular Season]     0.0330      0.020      1.689      0.092      -0.005       0.071\n",
      "competition_name[T.2016 NHL Playoff]           -0.0156      0.022     -0.699      0.485      -0.059       0.028\n",
      "competition_name[T.2016 NHL Regular Season]     0.0330      0.020      1.691      0.092      -0.005       0.071\n",
      "competition_name[T.2017 NHL Playoff]            0.0251      0.022      1.122      0.263      -0.019       0.069\n",
      "competition_name[T.2017 NHL Regular Season]     0.0316      0.019      1.626      0.105      -0.007       0.070\n",
      "pyth_pct                                        1.0477      0.030     34.383      0.000       0.988       1.108\n",
      "==============================================================================\n",
      "Omnibus:                       46.828   Durbin-Watson:                   2.117\n",
      "Prob(Omnibus):                  0.000   Jarque-Bera (JB):              190.341\n",
      "Skew:                          -0.449   Prob(JB):                     4.66e-42\n",
      "Kurtosis:                       6.402   Cond. No.                         22.4\n",
      "==============================================================================\n",
      "\n",
      "Warnings:\n",
      "[1] Standard Errors assume that the covariance matrix of the errors is correctly specified.\n"
     ]
    }
   ],
   "source": [
    "#Your Code Here\n",
    "reg9= sm.ols(formula= 'win_pct ~ pyth_pct+competition_name', data=NHL_Team_Stats).fit()\n",
    "print(reg9.summary())"
   ]
  },
  {
   "cell_type": "markdown",
   "metadata": {},
   "source": [
    "8. Run a regression (reg10) where winning percentage is the dependent variable and Pythagorean winning percentage, competition, and the interaction between competition and Pythagorean are the explanatory variables\n",
    "9. Interpret the estimate on the Pythagorean winning percentage and the goodness of fit of the regression model"
   ]
  },
  {
   "cell_type": "code",
   "execution_count": 32,
   "metadata": {},
   "outputs": [
    {
     "name": "stdout",
     "output_type": "stream",
     "text": [
      "                            OLS Regression Results                            \n",
      "==============================================================================\n",
      "Dep. Variable:                win_pct   R-squared:                       0.806\n",
      "Model:                            OLS   Adj. R-squared:                  0.788\n",
      "Method:                 Least Squares   F-statistic:                     45.21\n",
      "Date:                Wed, 14 Dec 2022   Prob (F-statistic):          4.32e-101\n",
      "Time:                        18:21:15   Log-Likelihood:                 520.45\n",
      "No. Observations:                 369   AIC:                            -976.9\n",
      "Df Residuals:                     337   BIC:                            -851.8\n",
      "Df Model:                          31                                         \n",
      "Covariance Type:            nonrobust                                         \n",
      "========================================================================================================================\n",
      "                                                           coef    std err          t      P>|t|      [0.025      0.975]\n",
      "------------------------------------------------------------------------------------------------------------------------\n",
      "Intercept                                                0.0078      0.053      0.147      0.884      -0.097       0.113\n",
      "competition_name[T.2010 NHL Regular Season]              0.0025      0.091      0.027      0.978      -0.176       0.181\n",
      "competition_name[T.2011 NHL Playoff]                    -0.1367      0.081     -1.682      0.093      -0.296       0.023\n",
      "competition_name[T.2011 NHL Regular Season]              0.0249      0.077      0.321      0.748      -0.128       0.177\n",
      "competition_name[T.2012 NHL Playoff]                    -0.0185      0.070     -0.264      0.792      -0.157       0.120\n",
      "competition_name[T.2012 NHL Regular Season]             -0.0918      0.086     -1.065      0.287      -0.261       0.078\n",
      "competition_name[T.2013 NHL Playoff]                    -0.1095      0.082     -1.331      0.184      -0.271       0.052\n",
      "competition_name[T.2013 NHL Regular Season]             -0.0564      0.085     -0.665      0.507      -0.223       0.111\n",
      "competition_name[T.2014 NHL Playoff]                    -0.2583      0.091     -2.833      0.005      -0.438      -0.079\n",
      "competition_name[T.2014 NHL Regular Season]             -0.0426      0.083     -0.516      0.606      -0.205       0.120\n",
      "competition_name[T.2015 NHL Playoff]                     0.1065      0.071      1.491      0.137      -0.034       0.247\n",
      "competition_name[T.2015 NHL Regular Season]             -0.0887      0.103     -0.859      0.391      -0.292       0.114\n",
      "competition_name[T.2016 NHL Playoff]                    -0.1098      0.071     -1.537      0.125      -0.250       0.031\n",
      "competition_name[T.2016 NHL Regular Season]             -0.0254      0.084     -0.303      0.762      -0.191       0.140\n",
      "competition_name[T.2017 NHL Playoff]                    -0.0485      0.067     -0.729      0.467      -0.179       0.082\n",
      "competition_name[T.2017 NHL Regular Season]             -0.1513      0.089     -1.695      0.091      -0.327       0.024\n",
      "pyth_pct                                                 0.9000      0.110      8.175      0.000       0.683       1.117\n",
      "pyth_pct:competition_name[T.2010 NHL Regular Season]     0.0669      0.182      0.367      0.714      -0.292       0.425\n",
      "pyth_pct:competition_name[T.2011 NHL Playoff]            0.3296      0.170      1.933      0.054      -0.006       0.665\n",
      "pyth_pct:competition_name[T.2011 NHL Regular Season]     0.0328      0.156      0.211      0.833      -0.273       0.339\n",
      "pyth_pct:competition_name[T.2012 NHL Playoff]            0.0908      0.148      0.615      0.539      -0.200       0.381\n",
      "pyth_pct:competition_name[T.2012 NHL Regular Season]     0.2638      0.173      1.526      0.128      -0.076       0.604\n",
      "pyth_pct:competition_name[T.2013 NHL Playoff]            0.2732      0.174      1.575      0.116      -0.068       0.615\n",
      "pyth_pct:competition_name[T.2013 NHL Regular Season]     0.1929      0.170      1.132      0.258      -0.142       0.528\n",
      "pyth_pct:competition_name[T.2014 NHL Playoff]            0.5547      0.191      2.902      0.004       0.179       0.931\n",
      "pyth_pct:competition_name[T.2014 NHL Regular Season]     0.1619      0.166      0.978      0.329      -0.164       0.488\n",
      "pyth_pct:competition_name[T.2015 NHL Playoff]           -0.1966      0.149     -1.317      0.189      -0.490       0.097\n",
      "pyth_pct:competition_name[T.2015 NHL Regular Season]     0.2540      0.207      1.227      0.221      -0.153       0.661\n",
      "pyth_pct:competition_name[T.2016 NHL Playoff]            0.2059      0.150      1.374      0.170      -0.089       0.501\n",
      "pyth_pct:competition_name[T.2016 NHL Regular Season]     0.1276      0.169      0.756      0.450      -0.205       0.460\n",
      "pyth_pct:competition_name[T.2017 NHL Playoff]            0.1597      0.141      1.133      0.258      -0.118       0.437\n",
      "pyth_pct:competition_name[T.2017 NHL Regular Season]     0.3767      0.179      2.100      0.036       0.024       0.730\n",
      "==============================================================================\n",
      "Omnibus:                       56.671   Durbin-Watson:                   2.196\n",
      "Prob(Omnibus):                  0.000   Jarque-Bera (JB):              209.699\n",
      "Skew:                          -0.618   Prob(JB):                     2.91e-46\n",
      "Kurtosis:                       6.480   Cond. No.                         181.\n",
      "==============================================================================\n",
      "\n",
      "Warnings:\n",
      "[1] Standard Errors assume that the covariance matrix of the errors is correctly specified.\n"
     ]
    }
   ],
   "source": [
    "#Your Code Here\n",
    "reg10= sm.ols(formula= 'win_pct ~ pyth_pct+competition_name+pyth_pct*competition_name', data=NHL_Team_Stats).fit()\n",
    "print(reg10.summary())"
   ]
  },
  {
   "cell_type": "markdown",
   "metadata": {},
   "source": [
    "10. Discussion question: how well does Pythagorean winning percentage predicts the actual winning percentage based on our data?"
   ]
  }
 ],
 "metadata": {
  "kernelspec": {
   "display_name": "Python 3",
   "language": "python",
   "name": "python3"
  },
  "language_info": {
   "codemirror_mode": {
    "name": "ipython",
    "version": 3
   },
   "file_extension": ".py",
   "mimetype": "text/x-python",
   "name": "python",
   "nbconvert_exporter": "python",
   "pygments_lexer": "ipython3",
   "version": "3.6.7"
  }
 },
 "nbformat": 4,
 "nbformat_minor": 2
}

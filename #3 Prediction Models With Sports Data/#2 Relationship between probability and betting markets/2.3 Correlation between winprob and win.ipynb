{
 "cells": [
  {
   "cell_type": "code",
   "execution_count": 15,
   "metadata": {},
   "outputs": [],
   "source": [
    "# install the packages we need\n",
    "\n",
    "import pandas as pd\n",
    "import numpy as np\n",
    "import matplotlib.pyplot as plt\n",
    "import seaborn as sns"
   ]
  },
  {
   "cell_type": "code",
   "execution_count": 16,
   "metadata": {},
   "outputs": [
    {
     "data": {
      "text/html": [
       "<div>\n",
       "<style scoped>\n",
       "    .dataframe tbody tr th:only-of-type {\n",
       "        vertical-align: middle;\n",
       "    }\n",
       "\n",
       "    .dataframe tbody tr th {\n",
       "        vertical-align: top;\n",
       "    }\n",
       "\n",
       "    .dataframe thead th {\n",
       "        text-align: right;\n",
       "    }\n",
       "</style>\n",
       "<table border=\"1\" class=\"dataframe\">\n",
       "  <thead>\n",
       "    <tr style=\"text-align: right;\">\n",
       "      <th></th>\n",
       "      <th>team</th>\n",
       "      <th>opponent</th>\n",
       "      <th>day</th>\n",
       "      <th>month</th>\n",
       "      <th>year</th>\n",
       "      <th>winodds</th>\n",
       "      <th>loseodds</th>\n",
       "      <th>teampts</th>\n",
       "      <th>oppopts</th>\n",
       "      <th>diff</th>\n",
       "      <th>overtime</th>\n",
       "      <th>home</th>\n",
       "      <th>Game(home-away)</th>\n",
       "      <th>HAscore</th>\n",
       "      <th>win prob</th>\n",
       "      <th>win</th>\n",
       "    </tr>\n",
       "  </thead>\n",
       "  <tbody>\n",
       "    <tr>\n",
       "      <th>0</th>\n",
       "      <td>Golden State Warriors</td>\n",
       "      <td>Houston Rockets</td>\n",
       "      <td>4</td>\n",
       "      <td>1</td>\n",
       "      <td>2019</td>\n",
       "      <td>1.27</td>\n",
       "      <td>3.92</td>\n",
       "      <td>134</td>\n",
       "      <td>135</td>\n",
       "      <td>1</td>\n",
       "      <td>1</td>\n",
       "      <td>1</td>\n",
       "      <td>Golden State Warriors - Houston Rockets</td>\n",
       "      <td>134:135 ET</td>\n",
       "      <td>0.755299</td>\n",
       "      <td>0</td>\n",
       "    </tr>\n",
       "    <tr>\n",
       "      <th>1</th>\n",
       "      <td>Houston Rockets</td>\n",
       "      <td>Golden State Warriors</td>\n",
       "      <td>4</td>\n",
       "      <td>1</td>\n",
       "      <td>2019</td>\n",
       "      <td>3.92</td>\n",
       "      <td>1.27</td>\n",
       "      <td>135</td>\n",
       "      <td>134</td>\n",
       "      <td>1</td>\n",
       "      <td>1</td>\n",
       "      <td>0</td>\n",
       "      <td>Golden State Warriors - Houston Rockets</td>\n",
       "      <td>134:135 ET</td>\n",
       "      <td>0.244701</td>\n",
       "      <td>1</td>\n",
       "    </tr>\n",
       "    <tr>\n",
       "      <th>2</th>\n",
       "      <td>New York Knicks</td>\n",
       "      <td>Washington Wizards</td>\n",
       "      <td>17</td>\n",
       "      <td>1</td>\n",
       "      <td>2019</td>\n",
       "      <td>3.52</td>\n",
       "      <td>1.32</td>\n",
       "      <td>100</td>\n",
       "      <td>101</td>\n",
       "      <td>1</td>\n",
       "      <td>0</td>\n",
       "      <td>0</td>\n",
       "      <td>Washington Wizards - New York Knicks</td>\n",
       "      <td>101:100</td>\n",
       "      <td>0.272727</td>\n",
       "      <td>0</td>\n",
       "    </tr>\n",
       "    <tr>\n",
       "      <th>3</th>\n",
       "      <td>Washington Wizards</td>\n",
       "      <td>New York Knicks</td>\n",
       "      <td>17</td>\n",
       "      <td>1</td>\n",
       "      <td>2019</td>\n",
       "      <td>1.32</td>\n",
       "      <td>3.52</td>\n",
       "      <td>101</td>\n",
       "      <td>100</td>\n",
       "      <td>1</td>\n",
       "      <td>0</td>\n",
       "      <td>1</td>\n",
       "      <td>Washington Wizards - New York Knicks</td>\n",
       "      <td>101:100</td>\n",
       "      <td>0.727273</td>\n",
       "      <td>1</td>\n",
       "    </tr>\n",
       "    <tr>\n",
       "      <th>4</th>\n",
       "      <td>Boston Celtics</td>\n",
       "      <td>Los Angeles Lakers</td>\n",
       "      <td>8</td>\n",
       "      <td>2</td>\n",
       "      <td>2019</td>\n",
       "      <td>1.24</td>\n",
       "      <td>4.31</td>\n",
       "      <td>128</td>\n",
       "      <td>129</td>\n",
       "      <td>1</td>\n",
       "      <td>0</td>\n",
       "      <td>1</td>\n",
       "      <td>Boston Celtics - Los Angeles Lakers</td>\n",
       "      <td>128:129</td>\n",
       "      <td>0.776577</td>\n",
       "      <td>0</td>\n",
       "    </tr>\n",
       "  </tbody>\n",
       "</table>\n",
       "</div>"
      ],
      "text/plain": [
       "                    team               opponent  day  month  year  winodds  \\\n",
       "0  Golden State Warriors        Houston Rockets    4      1  2019     1.27   \n",
       "1        Houston Rockets  Golden State Warriors    4      1  2019     3.92   \n",
       "2        New York Knicks     Washington Wizards   17      1  2019     3.52   \n",
       "3     Washington Wizards        New York Knicks   17      1  2019     1.32   \n",
       "4         Boston Celtics     Los Angeles Lakers    8      2  2019     1.24   \n",
       "\n",
       "   loseodds  teampts  oppopts  diff  overtime  home  \\\n",
       "0      3.92      134      135     1         1     1   \n",
       "1      1.27      135      134     1         1     0   \n",
       "2      1.32      100      101     1         0     0   \n",
       "3      3.52      101      100     1         0     1   \n",
       "4      4.31      128      129     1         0     1   \n",
       "\n",
       "                           Game(home-away)     HAscore  win prob  win  \n",
       "0  Golden State Warriors - Houston Rockets  134:135 ET  0.755299    0  \n",
       "1  Golden State Warriors - Houston Rockets  134:135 ET  0.244701    1  \n",
       "2     Washington Wizards - New York Knicks     101:100  0.272727    0  \n",
       "3     Washington Wizards - New York Knicks     101:100  0.727273    1  \n",
       "4      Boston Celtics - Los Angeles Lakers     128:129  0.776577    0  "
      ]
     },
     "execution_count": 16,
     "metadata": {},
     "output_type": "execute_result"
    }
   ],
   "source": [
    "# load the data\n",
    "\n",
    "NBA19 = pd.read_excel(\"Assignment Data/NBA2019odds.xlsx\")\n",
    "NBA19.head()"
   ]
  },
  {
   "cell_type": "code",
   "execution_count": 17,
   "metadata": {},
   "outputs": [],
   "source": [
    "NBA19['winprob']= 1/(NBA19.winodds) / (1/(NBA19['winodds']) + 1/(NBA19.loseodds))\n",
    "\n",
    "# filter to have just home \n",
    "NBA19= NBA19[NBA19.home ==1]"
   ]
  },
  {
   "cell_type": "code",
   "execution_count": 18,
   "metadata": {},
   "outputs": [
    {
     "data": {
      "text/plain": [
       "array([[1.        , 0.39652887],\n",
       "       [0.39652887, 1.        ]])"
      ]
     },
     "execution_count": 18,
     "metadata": {},
     "output_type": "execute_result"
    }
   ],
   "source": [
    "# get coefficient of win and winprob\n",
    "np.corrcoef(NBA19.winprob, NBA19.win)"
   ]
  },
  {
   "cell_type": "code",
   "execution_count": 19,
   "metadata": {},
   "outputs": [
    {
     "data": {
      "text/plain": [
       "9.0"
      ]
     },
     "execution_count": 19,
     "metadata": {},
     "output_type": "execute_result"
    }
   ],
   "source": [
    "# get points diff\n",
    "NBA19['absdiff']= abs(NBA19.teampts - NBA19.oppopts)\n",
    "np.median(NBA19.absdiff)"
   ]
  },
  {
   "cell_type": "code",
   "execution_count": 20,
   "metadata": {},
   "outputs": [
    {
     "data": {
      "text/plain": [
       "array([[1.        , 0.19811648],\n",
       "       [0.19811648, 1.        ]])"
      ]
     },
     "execution_count": 20,
     "metadata": {},
     "output_type": "execute_result"
    }
   ],
   "source": [
    "# filter for point diff less then 9 \n",
    "NBA1= NBA19[NBA19.absdiff < 9]\n",
    "np.corrcoef(NBA1.winprob, NBA1.win)"
   ]
  },
  {
   "cell_type": "code",
   "execution_count": 21,
   "metadata": {},
   "outputs": [
    {
     "data": {
      "text/plain": [
       "array([[1.        , 0.57647206],\n",
       "       [0.57647206, 1.        ]])"
      ]
     },
     "execution_count": 21,
     "metadata": {},
     "output_type": "execute_result"
    }
   ],
   "source": [
    "# filter for point diff bigger then 9\n",
    "NBAh= NBA19[NBA19.absdiff > 9]\n",
    "np.corrcoef(NBAh.winprob, NBAh.win)"
   ]
  },
  {
   "cell_type": "code",
   "execution_count": 23,
   "metadata": {},
   "outputs": [
    {
     "data": {
      "text/plain": [
       "array([[1.        , 0.03225853],\n",
       "       [0.03225853, 1.        ]])"
      ]
     },
     "execution_count": 23,
     "metadata": {},
     "output_type": "execute_result"
    }
   ],
   "source": [
    "# filter of OT\n",
    "NBA_OT = NBA19[NBA19.overtime ==1]\n",
    "np.corrcoef(NBA_OT.winprob, NBA_OT.win)"
   ]
  },
  {
   "cell_type": "code",
   "execution_count": 24,
   "metadata": {},
   "outputs": [
    {
     "data": {
      "text/plain": [
       "array([[1.       , 0.4144347],\n",
       "       [0.4144347, 1.       ]])"
      ]
     },
     "execution_count": 24,
     "metadata": {},
     "output_type": "execute_result"
    }
   ],
   "source": [
    "# filter for regulation \n",
    "NBA19_reg = NBA19[NBA19.overtime == 0]\n",
    "np.corrcoef(NBA19_reg.winprob, NBA19_reg.win)"
   ]
  },
  {
   "cell_type": "code",
   "execution_count": 25,
   "metadata": {},
   "outputs": [
    {
     "data": {
      "text/plain": [
       "array([[1.        , 0.33824657],\n",
       "       [0.33824657, 1.        ]])"
      ]
     },
     "execution_count": 25,
     "metadata": {},
     "output_type": "execute_result"
    }
   ],
   "source": [
    "# filter for year 2018\n",
    "NBA19_18= NBA19[NBA19.year == 2018]\n",
    "np.corrcoef(NBA19_18.winprob, NBA19_18.win)"
   ]
  },
  {
   "cell_type": "code",
   "execution_count": 26,
   "metadata": {},
   "outputs": [
    {
     "data": {
      "text/plain": [
       "array([[1.        , 0.43797601],\n",
       "       [0.43797601, 1.        ]])"
      ]
     },
     "execution_count": 26,
     "metadata": {},
     "output_type": "execute_result"
    }
   ],
   "source": [
    "# filter for year 2019\n",
    "NBA19_19= NBA19[NBA19.year== 2019]\n",
    "np.corrcoef(NBA19_19.winprob, NBA19_19.win)"
   ]
  },
  {
   "cell_type": "code",
   "execution_count": 27,
   "metadata": {},
   "outputs": [],
   "source": [
    "# filter for each month Oct- April\n",
    "NBA19_oct= NBA19[NBA19.month == 10]\n",
    "NBA19_nov= NBA19[NBA19.month == 11]\n",
    "NBA19_dec= NBA19[NBA19.month == 12]\n",
    "NBA19_jan= NBA19[NBA19.month == 1]\n",
    "NBA19_feb= NBA19[NBA19.month == 2]\n",
    "NBA19_mar= NBA19[NBA19.month == 3]\n",
    "NBA19_apr= NBA19[NBA19.month == 4]"
   ]
  },
  {
   "cell_type": "code",
   "execution_count": 31,
   "metadata": {},
   "outputs": [
    {
     "name": "stdout",
     "output_type": "stream",
     "text": [
      "Oct: [[1.        0.4132173]\n",
      " [0.4132173 1.       ]]\n",
      "\n",
      "Nov: [[1.         0.31889017]\n",
      " [0.31889017 1.        ]]\n",
      "\n",
      "Dec: [[1.         0.32183843]\n",
      " [0.32183843 1.        ]]\n",
      "\n",
      "Jan: [[1.        0.5035297]\n",
      " [0.5035297 1.       ]]\n",
      "\n",
      "Feb: [[1.         0.37928007]\n",
      " [0.37928007 1.        ]]\n",
      "\n",
      "Mar: [[1.         0.41270836]\n",
      " [0.41270836 1.        ]]\n",
      "\n",
      "Apr: [[1.        0.4554355]\n",
      " [0.4554355 1.       ]]\n"
     ]
    }
   ],
   "source": [
    "# get correlation for each month \n",
    "print('Oct:', np.corrcoef(NBA19_oct.winprob, NBA19_oct.win))\n",
    "print('\\nNov:', np.corrcoef(NBA19_nov.winprob, NBA19_nov.win))\n",
    "print('\\nDec:', np.corrcoef(NBA19_dec.winprob, NBA19_dec.win))\n",
    "print('\\nJan:', np.corrcoef(NBA19_jan.winprob, NBA19_jan.win))\n",
    "print('\\nFeb:', np.corrcoef(NBA19_feb.winprob, NBA19_feb.win))\n",
    "print('\\nMar:', np.corrcoef(NBA19_mar.winprob, NBA19_mar.win))\n",
    "print('\\nApr:', np.corrcoef(NBA19_apr.winprob, NBA19_apr.win))"
   ]
  },
  {
   "cell_type": "code",
   "execution_count": null,
   "metadata": {},
   "outputs": [],
   "source": []
  }
 ],
 "metadata": {
  "kernelspec": {
   "display_name": "Python 3",
   "language": "python",
   "name": "python3"
  },
  "language_info": {
   "codemirror_mode": {
    "name": "ipython",
    "version": 3
   },
   "file_extension": ".py",
   "mimetype": "text/x-python",
   "name": "python",
   "nbconvert_exporter": "python",
   "pygments_lexer": "ipython3",
   "version": "3.7.6"
  }
 },
 "nbformat": 4,
 "nbformat_minor": 2
}
